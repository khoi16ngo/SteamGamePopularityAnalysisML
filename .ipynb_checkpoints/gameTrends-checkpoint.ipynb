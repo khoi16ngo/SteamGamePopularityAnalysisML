{
 "cells": [
  {
   "cell_type": "code",
   "execution_count": 1,
   "id": "innocent-judges",
   "metadata": {},
   "outputs": [],
   "source": [
    "import numpy as np\n",
    "import pandas as pd\n",
    "import matplotlib.pyplot as plt\n",
    "\n",
    "import os"
   ]
  },
  {
   "cell_type": "code",
   "execution_count": 2,
   "id": "generic-terrorism",
   "metadata": {},
   "outputs": [],
   "source": [
    "data_path = \"SteamCharts.csv\""
   ]
  },
  {
   "cell_type": "code",
   "execution_count": 3,
   "id": "annoying-myrtle",
   "metadata": {},
   "outputs": [
    {
     "name": "stdout",
     "output_type": "stream",
     "text": [
      "<class 'pandas.core.frame.DataFrame'>\n",
      "                               gamename  year      month        avg      gain  \\\n",
      "0      Counter-Strike: Global Offensive  2021  February   741013.24  -2196.42   \n",
      "1      Counter-Strike: Global Offensive  2021   January   743209.66  25405.91   \n",
      "2      Counter-Strike: Global Offensive  2020  December   717803.75  49049.17   \n",
      "3      Counter-Strike: Global Offensive  2020  November   668754.58  55087.89   \n",
      "4      Counter-Strike: Global Offensive  2020   October   613666.69   6816.37   \n",
      "...                                 ...   ...        ...        ...       ...   \n",
      "83784       Steel Division: Normandy 44  2017      July      421.60   -485.13   \n",
      "83785       Steel Division: Normandy 44  2017      June      906.74   -231.92   \n",
      "83786       Steel Division: Normandy 44  2017       May     1138.66    415.61   \n",
      "83787       Steel Division: Normandy 44  2017     April      723.05    720.21   \n",
      "83788       Steel Division: Normandy 44  2017     March        2.84       NaN   \n",
      "\n",
      "          peak avg_peak_perc  \n",
      "0      1123485      65.9567%  \n",
      "1      1124553      66.0893%  \n",
      "2      1164396       61.646%  \n",
      "3      1037464      64.4605%  \n",
      "4       943876      65.0156%  \n",
      "...        ...           ...  \n",
      "83784      987      42.7153%  \n",
      "83785     2584      35.0906%  \n",
      "83786     4606      24.7212%  \n",
      "83787     1911      37.8362%  \n",
      "83788       14      20.2857%  \n",
      "\n",
      "[83789 rows x 7 columns]\n"
     ]
    }
   ],
   "source": [
    "data = pd.read_csv(data_path, header=0)\n",
    "\n",
    "print(type(data))\n",
    "print(data)"
   ]
  },
  {
   "cell_type": "code",
   "execution_count": 4,
   "id": "official-sitting",
   "metadata": {},
   "outputs": [
    {
     "name": "stdout",
     "output_type": "stream",
     "text": [
      "(83789, 7)\n",
      "<class 'pandas.core.frame.DataFrame'>\n",
      "RangeIndex: 83789 entries, 0 to 83788\n",
      "Data columns (total 7 columns):\n",
      " #   Column         Non-Null Count  Dtype  \n",
      "---  ------         --------------  -----  \n",
      " 0   gamename       83789 non-null  object \n",
      " 1   year           83789 non-null  int64  \n",
      " 2   month          83789 non-null  object \n",
      " 3   avg            83789 non-null  float64\n",
      " 4   gain           82529 non-null  float64\n",
      " 5   peak           83789 non-null  int64  \n",
      " 6   avg_peak_perc  83789 non-null  object \n",
      "dtypes: float64(2), int64(2), object(3)\n",
      "memory usage: 4.5+ MB\n",
      "None\n"
     ]
    }
   ],
   "source": [
    "print(data.shape)\n",
    "print(data.info())"
   ]
  },
  {
   "cell_type": "code",
   "execution_count": 5,
   "id": "driving-little",
   "metadata": {},
   "outputs": [
    {
     "name": "stdout",
     "output_type": "stream",
     "text": [
      "                                  year      month         avg       gain  \\\n",
      "gamename                                                                   \n",
      "PLAYERUNKNOWN'S BATTLEGROUNDS     2018   January   1584886.77  148728.26   \n",
      "Counter-Strike: Global Offensive  2020     April    857604.22  186570.94   \n",
      "Dota 2                            2016  February    709178.26   97003.48   \n",
      "Cyberpunk 2077                    2020  December    332395.65 -250248.99   \n",
      "Fallout 4                         2015  November    226297.83 -132161.46   \n",
      "Grand Theft Auto V                2015     April    192714.01   31424.28   \n",
      "Monster Hunter: World             2018    August    188291.24   82737.26   \n",
      "Destiny 2                         2019   October    165307.82  -57352.05   \n",
      "Rust                              2021   January    142117.25   80945.60   \n",
      "Terraria                          2020       May    129808.62   78493.53   \n",
      "\n",
      "                                     peak avg_peak_perc  \n",
      "gamename                                                 \n",
      "PLAYERUNKNOWN'S BATTLEGROUNDS     3236027      48.9763%  \n",
      "Counter-Strike: Global Offensive  1305714      65.6809%  \n",
      "Dota 2                            1248394      56.8072%  \n",
      "Cyberpunk 2077                     830387       40.029%  \n",
      "Fallout 4                          471955       47.949%  \n",
      "Grand Theft Auto V                 360761      53.4187%  \n",
      "Monster Hunter: World              329333      57.1735%  \n",
      "Destiny 2                          292314      56.5515%  \n",
      "Rust                               244394      58.1509%  \n",
      "Terraria                           486918      26.6592%  \n"
     ]
    }
   ],
   "source": [
    "print(data.sort_values(by='avg', ascending=False).groupby(\"gamename\").first().sort_values(by='avg', ascending=False).head(10))\n",
    "\n",
    "data_biggest = pd.unique(data.sort_values(by='avg', ascending=False)['gamename'])"
   ]
  },
  {
   "cell_type": "code",
   "execution_count": 6,
   "id": "continued-proceeding",
   "metadata": {},
   "outputs": [
    {
     "name": "stdout",
     "output_type": "stream",
     "text": [
      "[\"PLAYERUNKNOWN'S BATTLEGROUNDS\" 'Counter-Strike: Global Offensive'\n",
      " 'Dota 2' 'Cyberpunk 2077' 'Fallout 4' 'Grand Theft Auto V'\n",
      " 'Monster Hunter: World' 'Destiny 2' 'Rust' 'Terraria']\n"
     ]
    }
   ],
   "source": [
    "top_games = data_biggest[:10]\n",
    "print(top_games)"
   ]
  },
  {
   "cell_type": "code",
   "execution_count": 20,
   "id": "abroad-interstate",
   "metadata": {},
   "outputs": [],
   "source": [
    "data_top = []\n",
    "\n",
    "for name in top_games:\n",
    "    data_game = data.loc[data[\"gamename\"] == name]\n",
    "    data_top.append(data_game)"
   ]
  },
  {
   "cell_type": "code",
   "execution_count": 21,
   "id": "favorite-yesterday",
   "metadata": {},
   "outputs": [
    {
     "name": "stdout",
     "output_type": "stream",
     "text": [
      "                          gamename  year      month        avg      gain  \\\n",
      "208  PLAYERUNKNOWN'S BATTLEGROUNDS  2021  February   198957.52  -2289.67   \n",
      "209  PLAYERUNKNOWN'S BATTLEGROUNDS  2021   January   201247.19  12013.61   \n",
      "210  PLAYERUNKNOWN'S BATTLEGROUNDS  2020  December   189233.58   9713.32   \n",
      "211  PLAYERUNKNOWN'S BATTLEGROUNDS  2020  November   179520.26  16934.62   \n",
      "212  PLAYERUNKNOWN'S BATTLEGROUNDS  2020   October   162585.64  -6508.07   \n",
      "\n",
      "       peak avg_peak_perc  \n",
      "208  447390      44.4707%  \n",
      "209  451998      44.5239%  \n",
      "210  444680       42.555%  \n",
      "211  438919      40.9005%  \n",
      "212  381079      42.6645%  \n"
     ]
    }
   ],
   "source": [
    "print(data_top[0].head())"
   ]
  },
  {
   "cell_type": "code",
   "execution_count": 22,
   "id": "combined-identification",
   "metadata": {},
   "outputs": [
    {
     "name": "stderr",
     "output_type": "stream",
     "text": [
      "<ipython-input-22-783122c7838a>:17: SettingWithCopyWarning: \n",
      "A value is trying to be set on a copy of a slice from a DataFrame.\n",
      "Try using .loc[row_indexer,col_indexer] = value instead\n",
      "\n",
      "See the caveats in the documentation: https://pandas.pydata.org/pandas-docs/stable/user_guide/indexing.html#returning-a-view-versus-a-copy\n",
      "  df['month'] = df['month'].apply(lambda x: months[x])\n"
     ]
    }
   ],
   "source": [
    "months = {\n",
    "    'January ' : 1,\n",
    "    'February ' : 2,\n",
    "    'March ' : 3,\n",
    "    'April ' : 4,\n",
    "    'May ' : 5,\n",
    "    'June ' : 6,\n",
    "    'July ' : 7,\n",
    "    'August ' : 8,\n",
    "    'September ' : 9, \n",
    "    'October ' : 10,\n",
    "    'November ' : 11,\n",
    "    'December ' : 12\n",
    "}\n",
    "\n",
    "for df in data_top:\n",
    "    df['month'] = df['month'].apply(lambda x: months[x])"
   ]
  },
  {
   "cell_type": "code",
   "execution_count": 23,
   "id": "covered-harvest",
   "metadata": {},
   "outputs": [
    {
     "data": {
      "text/html": [
       "<div>\n",
       "<style scoped>\n",
       "    .dataframe tbody tr th:only-of-type {\n",
       "        vertical-align: middle;\n",
       "    }\n",
       "\n",
       "    .dataframe tbody tr th {\n",
       "        vertical-align: top;\n",
       "    }\n",
       "\n",
       "    .dataframe thead th {\n",
       "        text-align: right;\n",
       "    }\n",
       "</style>\n",
       "<table border=\"1\" class=\"dataframe\">\n",
       "  <thead>\n",
       "    <tr style=\"text-align: right;\">\n",
       "      <th></th>\n",
       "      <th>gamename</th>\n",
       "      <th>year</th>\n",
       "      <th>month</th>\n",
       "      <th>avg</th>\n",
       "      <th>gain</th>\n",
       "      <th>peak</th>\n",
       "      <th>avg_peak_perc</th>\n",
       "    </tr>\n",
       "  </thead>\n",
       "  <tbody>\n",
       "    <tr>\n",
       "      <th>208</th>\n",
       "      <td>PLAYERUNKNOWN'S BATTLEGROUNDS</td>\n",
       "      <td>2021</td>\n",
       "      <td>2</td>\n",
       "      <td>198957.52</td>\n",
       "      <td>-2289.67</td>\n",
       "      <td>447390</td>\n",
       "      <td>44.4707%</td>\n",
       "    </tr>\n",
       "    <tr>\n",
       "      <th>209</th>\n",
       "      <td>PLAYERUNKNOWN'S BATTLEGROUNDS</td>\n",
       "      <td>2021</td>\n",
       "      <td>1</td>\n",
       "      <td>201247.19</td>\n",
       "      <td>12013.61</td>\n",
       "      <td>451998</td>\n",
       "      <td>44.5239%</td>\n",
       "    </tr>\n",
       "    <tr>\n",
       "      <th>210</th>\n",
       "      <td>PLAYERUNKNOWN'S BATTLEGROUNDS</td>\n",
       "      <td>2020</td>\n",
       "      <td>12</td>\n",
       "      <td>189233.58</td>\n",
       "      <td>9713.32</td>\n",
       "      <td>444680</td>\n",
       "      <td>42.555%</td>\n",
       "    </tr>\n",
       "    <tr>\n",
       "      <th>211</th>\n",
       "      <td>PLAYERUNKNOWN'S BATTLEGROUNDS</td>\n",
       "      <td>2020</td>\n",
       "      <td>11</td>\n",
       "      <td>179520.26</td>\n",
       "      <td>16934.62</td>\n",
       "      <td>438919</td>\n",
       "      <td>40.9005%</td>\n",
       "    </tr>\n",
       "    <tr>\n",
       "      <th>212</th>\n",
       "      <td>PLAYERUNKNOWN'S BATTLEGROUNDS</td>\n",
       "      <td>2020</td>\n",
       "      <td>10</td>\n",
       "      <td>162585.64</td>\n",
       "      <td>-6508.07</td>\n",
       "      <td>381079</td>\n",
       "      <td>42.6645%</td>\n",
       "    </tr>\n",
       "  </tbody>\n",
       "</table>\n",
       "</div>"
      ],
      "text/plain": [
       "                          gamename  year  month        avg      gain    peak  \\\n",
       "208  PLAYERUNKNOWN'S BATTLEGROUNDS  2021      2  198957.52  -2289.67  447390   \n",
       "209  PLAYERUNKNOWN'S BATTLEGROUNDS  2021      1  201247.19  12013.61  451998   \n",
       "210  PLAYERUNKNOWN'S BATTLEGROUNDS  2020     12  189233.58   9713.32  444680   \n",
       "211  PLAYERUNKNOWN'S BATTLEGROUNDS  2020     11  179520.26  16934.62  438919   \n",
       "212  PLAYERUNKNOWN'S BATTLEGROUNDS  2020     10  162585.64  -6508.07  381079   \n",
       "\n",
       "    avg_peak_perc  \n",
       "208      44.4707%  \n",
       "209      44.5239%  \n",
       "210       42.555%  \n",
       "211      40.9005%  \n",
       "212      42.6645%  "
      ]
     },
     "execution_count": 23,
     "metadata": {},
     "output_type": "execute_result"
    }
   ],
   "source": [
    "data_top[0].head()"
   ]
  },
  {
   "cell_type": "code",
   "execution_count": null,
   "id": "streaming-receptor",
   "metadata": {},
   "outputs": [],
   "source": []
  }
 ],
 "metadata": {
  "kernelspec": {
   "display_name": "enel-ml",
   "language": "python",
   "name": "enel-ml"
  },
  "language_info": {
   "codemirror_mode": {
    "name": "ipython",
    "version": 3
   },
   "file_extension": ".py",
   "mimetype": "text/x-python",
   "name": "python",
   "nbconvert_exporter": "python",
   "pygments_lexer": "ipython3",
   "version": "3.8.8"
  }
 },
 "nbformat": 4,
 "nbformat_minor": 5
}

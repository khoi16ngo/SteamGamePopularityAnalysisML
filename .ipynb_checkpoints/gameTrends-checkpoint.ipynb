{
 "cells": [
  {
   "cell_type": "code",
   "execution_count": 3,
   "id": "australian-application",
   "metadata": {},
   "outputs": [],
   "source": [
    "import numpy as np\n",
    "import pandas as pd\n",
    "import matplotlib.pyplot as plt\n",
    "\n",
    "import os"
   ]
  },
  {
   "cell_type": "code",
   "execution_count": 5,
   "id": "powerful-township",
   "metadata": {},
   "outputs": [],
   "source": [
    "data_path = \"SteamCharts.csv\""
   ]
  },
  {
   "cell_type": "code",
   "execution_count": 8,
   "id": "geological-exclusive",
   "metadata": {},
   "outputs": [
    {
     "name": "stdout",
     "output_type": "stream",
     "text": [
      "<class 'pandas.core.frame.DataFrame'>\n",
      "                               gamename  year      month        avg      gain  \\\n",
      "0      Counter-Strike: Global Offensive  2021  February   741013.24  -2196.42   \n",
      "1      Counter-Strike: Global Offensive  2021   January   743209.66  25405.91   \n",
      "2      Counter-Strike: Global Offensive  2020  December   717803.75  49049.17   \n",
      "3      Counter-Strike: Global Offensive  2020  November   668754.58  55087.89   \n",
      "4      Counter-Strike: Global Offensive  2020   October   613666.69   6816.37   \n",
      "...                                 ...   ...        ...        ...       ...   \n",
      "83784       Steel Division: Normandy 44  2017      July      421.60   -485.13   \n",
      "83785       Steel Division: Normandy 44  2017      June      906.74   -231.92   \n",
      "83786       Steel Division: Normandy 44  2017       May     1138.66    415.61   \n",
      "83787       Steel Division: Normandy 44  2017     April      723.05    720.21   \n",
      "83788       Steel Division: Normandy 44  2017     March        2.84       NaN   \n",
      "\n",
      "          peak avg_peak_perc  \n",
      "0      1123485      65.9567%  \n",
      "1      1124553      66.0893%  \n",
      "2      1164396       61.646%  \n",
      "3      1037464      64.4605%  \n",
      "4       943876      65.0156%  \n",
      "...        ...           ...  \n",
      "83784      987      42.7153%  \n",
      "83785     2584      35.0906%  \n",
      "83786     4606      24.7212%  \n",
      "83787     1911      37.8362%  \n",
      "83788       14      20.2857%  \n",
      "\n",
      "[83789 rows x 7 columns]\n"
     ]
    }
   ],
   "source": [
    "data = pd.read_csv(data_path, header=0)\n",
    "\n",
    "print(type(data))\n",
    "print(data)"
   ]
  },
  {
   "cell_type": "code",
   "execution_count": 12,
   "id": "thrown-camera",
   "metadata": {},
   "outputs": [
    {
     "name": "stdout",
     "output_type": "stream",
     "text": [
      "(83789, 7)\n",
      "<class 'pandas.core.frame.DataFrame'>\n",
      "RangeIndex: 83789 entries, 0 to 83788\n",
      "Data columns (total 7 columns):\n",
      " #   Column         Non-Null Count  Dtype  \n",
      "---  ------         --------------  -----  \n",
      " 0   gamename       83789 non-null  object \n",
      " 1   year           83789 non-null  int64  \n",
      " 2   month          83789 non-null  object \n",
      " 3   avg            83789 non-null  float64\n",
      " 4   gain           82529 non-null  float64\n",
      " 5   peak           83789 non-null  int64  \n",
      " 6   avg_peak_perc  83789 non-null  object \n",
      "dtypes: float64(2), int64(2), object(3)\n",
      "memory usage: 4.5+ MB\n",
      "None\n"
     ]
    }
   ],
   "source": [
    "print(data.shape)\n",
    "print(data.info())"
   ]
  },
  {
   "cell_type": "code",
   "execution_count": 29,
   "id": "subsequent-niger",
   "metadata": {},
   "outputs": [],
   "source": [
    "df = data.drop(columns =[\"gain\", \"peak\", \"avg_peak_perc\"])"
   ]
  },
  {
   "cell_type": "code",
   "execution_count": 68,
   "id": "senior-asset",
   "metadata": {},
   "outputs": [
    {
     "name": "stdout",
     "output_type": "stream",
     "text": [
      "                                  year      month        avg\n",
      "gamename                                                    \n",
      "Counter-Strike: Global Offensive  2021   January   743209.66\n",
      "Dota 2                            2021   January   432671.65\n",
      "PLAYERUNKNOWN'S BATTLEGROUNDS     2021   January   201247.19\n",
      "Rust                              2021   January   142117.25\n",
      "Apex Legends                      2021  February   120982.64\n",
      "Grand Theft Auto V                2021   January   101250.59\n",
      "Team Fortress 2                   2021  February   101230.91\n",
      "Cyberpunk 2077                    2021   January    82146.66\n",
      "Tom Clancy's Rainbow Six Siege    2021   January    77717.42\n",
      "ARK: Survival Evolved             2021   January    63160.05\n"
     ]
    }
   ],
   "source": [
    "print(df.sort_values(by=['year','avg'], ascending=False).groupby(\"gamename\").first().sort_values(by='avg', ascending=False).head(10))\n",
    "\n",
    "data_biggest = pd.unique(df.sort_values(by=['year','avg'], ascending=False)['gamename'])"
   ]
  },
  {
   "cell_type": "code",
   "execution_count": 69,
   "id": "polyphonic-harmony",
   "metadata": {},
   "outputs": [
    {
     "name": "stdout",
     "output_type": "stream",
     "text": [
      "['Counter-Strike: Global Offensive' 'Dota 2'\n",
      " \"PLAYERUNKNOWN'S BATTLEGROUNDS\" 'Rust' 'Apex Legends'\n",
      " 'Grand Theft Auto V' 'Team Fortress 2' 'Cyberpunk 2077'\n",
      " \"Tom Clancy's Rainbow Six Siege\" 'ARK: Survival Evolved']\n"
     ]
    }
   ],
   "source": [
    "top_games = data_biggest[:10]\n",
    "print(top_games)"
   ]
  },
  {
   "cell_type": "code",
   "execution_count": 73,
   "id": "adjusted-lightweight",
   "metadata": {},
   "outputs": [
    {
     "name": "stdout",
     "output_type": "stream",
     "text": [
      "(70, 4)\n",
      "<class 'pandas.core.frame.DataFrame'>\n",
      "                  gamename  year       month       avg\n",
      "747  ARK: Survival Evolved  2021   February   61785.58\n",
      "748  ARK: Survival Evolved  2021    January   63160.05\n",
      "749  ARK: Survival Evolved  2020   December   56324.05\n",
      "750  ARK: Survival Evolved  2020   November   56425.60\n",
      "751  ARK: Survival Evolved  2020    October   41760.00\n",
      "..                     ...   ...         ...       ...\n",
      "812  ARK: Survival Evolved  2015  September   35498.30\n",
      "813  ARK: Survival Evolved  2015     August   45057.02\n",
      "814  ARK: Survival Evolved  2015       July   46764.79\n",
      "815  ARK: Survival Evolved  2015       June   42871.49\n",
      "816  ARK: Survival Evolved  2015        May       5.28\n",
      "\n",
      "[70 rows x 4 columns]\n"
     ]
    }
   ],
   "source": [
    "data_top = []\n",
    "\n",
    "for name in top_games:\n",
    "    data_game = df[df[\"gamename\"] == name]\n",
    "    data_top.append(data_game)\n",
    "    \n",
    "print(data_top[9].shape)\n",
    "\n",
    "print(type(data_top[9]))\n",
    "\n",
    "print(data_top[9])"
   ]
  },
  {
   "cell_type": "code",
   "execution_count": null,
   "id": "ruled-thought",
   "metadata": {},
   "outputs": [],
   "source": []
  }
 ],
 "metadata": {
  "kernelspec": {
   "display_name": "enel-ml",
   "language": "python",
   "name": "enel-ml"
  },
  "language_info": {
   "codemirror_mode": {
    "name": "ipython",
    "version": 3
   },
   "file_extension": ".py",
   "mimetype": "text/x-python",
   "name": "python",
   "nbconvert_exporter": "python",
   "pygments_lexer": "ipython3",
   "version": "3.8.8"
  }
 },
 "nbformat": 4,
 "nbformat_minor": 5
}

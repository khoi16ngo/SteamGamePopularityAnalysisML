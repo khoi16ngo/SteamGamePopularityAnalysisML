{
 "cells": [
  {
   "cell_type": "code",
   "execution_count": 1,
   "id": "automotive-possibility",
   "metadata": {},
   "outputs": [],
   "source": [
    "import pandas as pd\n",
    "import matplotlib.pyplot as plt"
   ]
  },
  {
   "cell_type": "code",
   "execution_count": null,
   "id": "inclusive-treatment",
   "metadata": {},
   "outputs": [],
   "source": [
    "def plotPresentData(df, name):\n",
    "    \n",
    "    df.plot(x = df[],\n",
    "            y = df[]\n",
    "           )\n",
    "    plt.title(\"Plot of Average Players Per Month for\"+name)\n",
    "    plt.xlabel(\"Date\")\n",
    "    plt.ylabel(\"Average Number of Players at the Same Time\")\n",
    "    plt.show()"
   ]
  }
 ],
 "metadata": {
  "kernelspec": {
   "display_name": "GPUEnv",
   "language": "python",
   "name": "gpuenv"
  },
  "language_info": {
   "codemirror_mode": {
    "name": "ipython",
    "version": 3
   },
   "file_extension": ".py",
   "mimetype": "text/x-python",
   "name": "python",
   "nbconvert_exporter": "python",
   "pygments_lexer": "ipython3",
   "version": "3.8.8"
  }
 },
 "nbformat": 4,
 "nbformat_minor": 5
}
